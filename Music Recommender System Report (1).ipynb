{
 "cells": [
  {
   "cell_type": "markdown",
   "id": "4f0f3f04-7921-4880-83e2-37e30ac2cee7",
   "metadata": {},
   "source": [
    "# MUSIC RECOMMENDATION"
   ]
  },
  {
   "cell_type": "markdown",
   "id": "fb878e36-06a4-4ba1-847d-f229f085c0d3",
   "metadata": {},
   "source": [
    "### A) Problem Statement\n",
    "The project aims to develop a music recommendation system that predicts what \n",
    "tracks a user might enjoy based on their past listening habits. This system will \n",
    "leverage the \"song_data\" dataset, which contains detailed information about \n",
    "various songs, to provide personalized music recommendations.\n",
    "\n",
    "#### Objectives and Goals\n",
    "1. **Data Preparation:** Clean and preprocess the \"song_data\" dataset for modeling.\n",
    "2. **Exploratory Data Analysis (EDA):** Analyze data trends and correlations to inform model selection.\n",
    "3. **Model Selection and Training:** Evaluate and train recommendation algorithms using the prepared dataset.\n",
    "4. **Model Evaluation and Optimization:** Assess model performance and optimize algorithms for enhanced recommendation accuracy.\n",
    "5. **Recommendation Generation:** Develop algorithms to generate personalized music recommendations based on user listening history.\n",
    "6. **Deployment:** Implement the recommendation system and ensure scalability for real-world usage.\n"
   ]
  },
  {
   "cell_type": "markdown",
   "id": "646f108a-3578-44d6-ba94-be8667662fe9",
   "metadata": {},
   "source": [
    "### B) Dataset Description\n",
    "The Spotify song data CSV dataset contains comprehensive information about a wide range of songs available on the Spotify platform. It includes both numerical and categorical attributes, providing insights into various aspects of each track. Some of the key attributes in the dataset include acousticness, danceability, energy, duration, instrumentalness, valence, popularity, tempo, liveness, loudness, speechiness, year of release, key, artists, release date, track name, mode, and explicit content\n",
    "This rich dataset serves as the foundation for developing a music recommendation system that predicts tracks users might enjoy based on their listening history."
   ]
  },
  {
   "cell_type": "code",
   "execution_count": null,
   "id": "d3e0adac-017a-4a60-8ae9-1aa92903dd60",
   "metadata": {},
   "outputs": [],
   "source": [
    "# IMPORTt NEEDED LIBRARIES"
   ]
  },
  {
   "cell_type": "code",
   "execution_count": 1,
   "id": "6a37653e-cf44-4a70-8481-13527ccf586d",
   "metadata": {},
   "outputs": [
    {
     "name": "stderr",
     "output_type": "stream",
     "text": [
      "C:\\Users\\Lenovo\\AppData\\Local\\Temp\\ipykernel_71592\\1258713072.py:1: DeprecationWarning: \n",
      "Pyarrow will become a required dependency of pandas in the next major release of pandas (pandas 3.0),\n",
      "(to allow more performant data types, such as the Arrow string type, and better interoperability with other libraries)\n",
      "but was not found to be installed on your system.\n",
      "If this would cause problems for you,\n",
      "please provide us feedback at https://github.com/pandas-dev/pandas/issues/54466\n",
      "        \n",
      "  import pandas as pd\n"
     ]
    }
   ],
   "source": [
    "import pandas as pd\n",
    "import matplotlib.pyplot as plt\n",
    "import missingno as msno\n",
    "from sklearn.feature_extraction.text import CountVectorizer\n",
    "from sklearn.metrics.pairwise import cosine_similarity\n",
    "from scipy.sparse import csr_matrix\n",
    "import numpy as np\n",
    "from scipy import stats\n",
    "import seaborn as sns"
   ]
  },
  {
   "cell_type": "code",
   "execution_count": null,
   "id": "752a32ce-8df0-452d-b6d7-5b7cddded8b7",
   "metadata": {},
   "outputs": [],
   "source": [
    "#IMPORT DATA FROM A CSV FILE INTO A DATAFRAME"
   ]
  },
  {
   "cell_type": "code",
   "execution_count": 2,
   "id": "50ea7b29-ab27-4e6d-b4ed-a550e5627554",
   "metadata": {},
   "outputs": [],
   "source": [
    "df = pd.read_csv('song_data.csv')"
   ]
  },
  {
   "cell_type": "markdown",
   "id": "cfe8b41d-e42c-4eda-b231-6be0d0b1f5ac",
   "metadata": {},
   "source": [
    "### C) Exploratory Data Analysis"
   ]
  },
  {
   "cell_type": "code",
   "execution_count": null,
   "id": "1283d47c-fbc5-4ff3-a48d-ed9efaebd15d",
   "metadata": {},
   "outputs": [],
   "source": [
    "# TAKE LOOK AT DATASET"
   ]
  },
  {
   "cell_type": "code",
   "execution_count": 3,
   "id": "fedb847a-25cf-4e17-9ca1-a71162103fae",
   "metadata": {},
   "outputs": [
    {
     "name": "stdout",
     "output_type": "stream",
     "text": [
      "The first 5 rows of the dataset are:\n"
     ]
    },
    {
     "data": {
      "text/html": [
       "<div>\n",
       "<style scoped>\n",
       "    .dataframe tbody tr th:only-of-type {\n",
       "        vertical-align: middle;\n",
       "    }\n",
       "\n",
       "    .dataframe tbody tr th {\n",
       "        vertical-align: top;\n",
       "    }\n",
       "\n",
       "    .dataframe thead th {\n",
       "        text-align: right;\n",
       "    }\n",
       "</style>\n",
       "<table border=\"1\" class=\"dataframe\">\n",
       "  <thead>\n",
       "    <tr style=\"text-align: right;\">\n",
       "      <th></th>\n",
       "      <th>valence</th>\n",
       "      <th>year</th>\n",
       "      <th>acousticness</th>\n",
       "      <th>artists</th>\n",
       "      <th>danceability</th>\n",
       "      <th>duration_ms</th>\n",
       "      <th>energy</th>\n",
       "      <th>explicit</th>\n",
       "      <th>id</th>\n",
       "      <th>instrumentalness</th>\n",
       "      <th>key</th>\n",
       "      <th>liveness</th>\n",
       "      <th>loudness</th>\n",
       "      <th>mode</th>\n",
       "      <th>name</th>\n",
       "      <th>popularity</th>\n",
       "      <th>release_date</th>\n",
       "      <th>speechiness</th>\n",
       "      <th>tempo</th>\n",
       "      <th>Unnamed: 19</th>\n",
       "    </tr>\n",
       "  </thead>\n",
       "  <tbody>\n",
       "    <tr>\n",
       "      <th>0</th>\n",
       "      <td>0.0594</td>\n",
       "      <td>1921</td>\n",
       "      <td>0.982</td>\n",
       "      <td>['Sergei Rachmaninoff', 'James Levine', 'Berli...</td>\n",
       "      <td>0.279</td>\n",
       "      <td>831667</td>\n",
       "      <td>0.211</td>\n",
       "      <td>0</td>\n",
       "      <td>4BJqT0PrAfrxzMOxytFOIz</td>\n",
       "      <td>0.878000</td>\n",
       "      <td>10</td>\n",
       "      <td>0.665</td>\n",
       "      <td>-20.096</td>\n",
       "      <td>1</td>\n",
       "      <td>Piano Concerto No. 3 in D Minor, Op. 30: III. ...</td>\n",
       "      <td>4</td>\n",
       "      <td>1921</td>\n",
       "      <td>0.0366</td>\n",
       "      <td>80.954</td>\n",
       "      <td>NaN</td>\n",
       "    </tr>\n",
       "    <tr>\n",
       "      <th>1</th>\n",
       "      <td>0.9630</td>\n",
       "      <td>1921</td>\n",
       "      <td>0.732</td>\n",
       "      <td>['Dennis Day']</td>\n",
       "      <td>0.819</td>\n",
       "      <td>180533</td>\n",
       "      <td>0.341</td>\n",
       "      <td>0</td>\n",
       "      <td>7xPhfUan2yNtyFG0cUWkt8</td>\n",
       "      <td>0.000000</td>\n",
       "      <td>7</td>\n",
       "      <td>0.160</td>\n",
       "      <td>-12.441</td>\n",
       "      <td>1</td>\n",
       "      <td>Clancy Lowered the Boom</td>\n",
       "      <td>5</td>\n",
       "      <td>1921</td>\n",
       "      <td>0.4150</td>\n",
       "      <td>60.936</td>\n",
       "      <td>NaN</td>\n",
       "    </tr>\n",
       "    <tr>\n",
       "      <th>2</th>\n",
       "      <td>0.0394</td>\n",
       "      <td>1921</td>\n",
       "      <td>0.961</td>\n",
       "      <td>['KHP Kridhamardawa Karaton Ngayogyakarta Hadi...</td>\n",
       "      <td>0.328</td>\n",
       "      <td>500062</td>\n",
       "      <td>0.166</td>\n",
       "      <td>0</td>\n",
       "      <td>1o6I8BglA6ylDMrIELygv1</td>\n",
       "      <td>0.913000</td>\n",
       "      <td>3</td>\n",
       "      <td>0.101</td>\n",
       "      <td>-14.850</td>\n",
       "      <td>1</td>\n",
       "      <td>Gati Bali</td>\n",
       "      <td>5</td>\n",
       "      <td>1921</td>\n",
       "      <td>0.0339</td>\n",
       "      <td>110.339</td>\n",
       "      <td>NaN</td>\n",
       "    </tr>\n",
       "    <tr>\n",
       "      <th>3</th>\n",
       "      <td>0.1650</td>\n",
       "      <td>1921</td>\n",
       "      <td>0.967</td>\n",
       "      <td>['Frank Parker']</td>\n",
       "      <td>0.275</td>\n",
       "      <td>210000</td>\n",
       "      <td>0.309</td>\n",
       "      <td>0</td>\n",
       "      <td>3ftBPsC5vPBKxYSee08FDH</td>\n",
       "      <td>0.000028</td>\n",
       "      <td>5</td>\n",
       "      <td>0.381</td>\n",
       "      <td>-9.316</td>\n",
       "      <td>1</td>\n",
       "      <td>Danny Boy</td>\n",
       "      <td>3</td>\n",
       "      <td>1921</td>\n",
       "      <td>0.0354</td>\n",
       "      <td>100.109</td>\n",
       "      <td>NaN</td>\n",
       "    </tr>\n",
       "    <tr>\n",
       "      <th>4</th>\n",
       "      <td>0.2530</td>\n",
       "      <td>1921</td>\n",
       "      <td>0.957</td>\n",
       "      <td>['Phil Regan']</td>\n",
       "      <td>0.418</td>\n",
       "      <td>166693</td>\n",
       "      <td>0.193</td>\n",
       "      <td>0</td>\n",
       "      <td>4d6HGyGT8e121BsdKmw9v6</td>\n",
       "      <td>0.000002</td>\n",
       "      <td>3</td>\n",
       "      <td>0.229</td>\n",
       "      <td>-10.096</td>\n",
       "      <td>1</td>\n",
       "      <td>When Irish Eyes Are Smiling</td>\n",
       "      <td>2</td>\n",
       "      <td>1921</td>\n",
       "      <td>0.0380</td>\n",
       "      <td>101.665</td>\n",
       "      <td>NaN</td>\n",
       "    </tr>\n",
       "  </tbody>\n",
       "</table>\n",
       "</div>"
      ],
      "text/plain": [
       "   valence  year  acousticness  \\\n",
       "0   0.0594  1921         0.982   \n",
       "1   0.9630  1921         0.732   \n",
       "2   0.0394  1921         0.961   \n",
       "3   0.1650  1921         0.967   \n",
       "4   0.2530  1921         0.957   \n",
       "\n",
       "                                             artists  danceability  \\\n",
       "0  ['Sergei Rachmaninoff', 'James Levine', 'Berli...         0.279   \n",
       "1                                     ['Dennis Day']         0.819   \n",
       "2  ['KHP Kridhamardawa Karaton Ngayogyakarta Hadi...         0.328   \n",
       "3                                   ['Frank Parker']         0.275   \n",
       "4                                     ['Phil Regan']         0.418   \n",
       "\n",
       "   duration_ms  energy  explicit                      id  instrumentalness  \\\n",
       "0       831667   0.211         0  4BJqT0PrAfrxzMOxytFOIz          0.878000   \n",
       "1       180533   0.341         0  7xPhfUan2yNtyFG0cUWkt8          0.000000   \n",
       "2       500062   0.166         0  1o6I8BglA6ylDMrIELygv1          0.913000   \n",
       "3       210000   0.309         0  3ftBPsC5vPBKxYSee08FDH          0.000028   \n",
       "4       166693   0.193         0  4d6HGyGT8e121BsdKmw9v6          0.000002   \n",
       "\n",
       "   key  liveness  loudness  mode  \\\n",
       "0   10     0.665   -20.096     1   \n",
       "1    7     0.160   -12.441     1   \n",
       "2    3     0.101   -14.850     1   \n",
       "3    5     0.381    -9.316     1   \n",
       "4    3     0.229   -10.096     1   \n",
       "\n",
       "                                                name  popularity release_date  \\\n",
       "0  Piano Concerto No. 3 in D Minor, Op. 30: III. ...           4         1921   \n",
       "1                            Clancy Lowered the Boom           5         1921   \n",
       "2                                          Gati Bali           5         1921   \n",
       "3                                          Danny Boy           3         1921   \n",
       "4                        When Irish Eyes Are Smiling           2         1921   \n",
       "\n",
       "   speechiness    tempo  Unnamed: 19  \n",
       "0       0.0366   80.954          NaN  \n",
       "1       0.4150   60.936          NaN  \n",
       "2       0.0339  110.339          NaN  \n",
       "3       0.0354  100.109          NaN  \n",
       "4       0.0380  101.665          NaN  "
      ]
     },
     "execution_count": 3,
     "metadata": {},
     "output_type": "execute_result"
    }
   ],
   "source": [
    "print(\"The first 5 rows of the dataset are:\")\n",
    "df.head()"
   ]
  },
  {
   "cell_type": "code",
   "execution_count": null,
   "id": "b700768a-8d94-466a-b7d9-65123a403423",
   "metadata": {},
   "outputs": [],
   "source": [
    "# QUICK DESCRIPTION OF THE DATA IN THE DATAFRAME"
   ]
  },
  {
   "cell_type": "markdown",
   "id": "f2af3dd4-f4d0-4419-b56b-96f55f578178",
   "metadata": {},
   "source": [
    "### View summary of dataset"
   ]
  },
  {
   "cell_type": "code",
   "execution_count": 41,
   "id": "1a2ac65d-e169-4b6e-8e66-a71aac8eaa96",
   "metadata": {},
   "outputs": [
    {
     "name": "stdout",
     "output_type": "stream",
     "text": [
      "<class 'pandas.core.frame.DataFrame'>\n",
      "RangeIndex: 170653 entries, 0 to 170652\n",
      "Data columns (total 20 columns):\n",
      " #   Column            Non-Null Count   Dtype  \n",
      "---  ------            --------------   -----  \n",
      " 0   valence           170653 non-null  float64\n",
      " 1   year              170653 non-null  int64  \n",
      " 2   acousticness      170653 non-null  float64\n",
      " 3   artists           170653 non-null  object \n",
      " 4   danceability      170653 non-null  float64\n",
      " 5   duration_ms       170653 non-null  int64  \n",
      " 6   energy            170653 non-null  float64\n",
      " 7   explicit          170653 non-null  int64  \n",
      " 8   id                170653 non-null  object \n",
      " 9   instrumentalness  170653 non-null  float64\n",
      " 10  key               170653 non-null  int64  \n",
      " 11  liveness          170653 non-null  float64\n",
      " 12  loudness          170653 non-null  float64\n",
      " 13  mode              170653 non-null  int64  \n",
      " 14  name              170653 non-null  object \n",
      " 15  popularity        170653 non-null  int64  \n",
      " 16  release_date      170653 non-null  object \n",
      " 17  speechiness       170653 non-null  float64\n",
      " 18  tempo             170653 non-null  float64\n",
      " 19  Unnamed: 19       0 non-null       float64\n",
      "dtypes: float64(10), int64(6), object(4)\n",
      "memory usage: 26.0+ MB\n"
     ]
    }
   ],
   "source": [
    "df.info()"
   ]
  },
  {
   "cell_type": "markdown",
   "id": "2302fcc9-0b1e-43c1-b630-37e68dbb09d9",
   "metadata": {},
   "source": [
    "# Description:\n",
    "The dataset contains 170,653 entries and 19 columns.\n",
    "- The columns include both numerical (float64 and int64) and categorical (object) data types.\n",
    "- Features such as 'valence', 'acousticness', 'danceability', 'energy', and others represent musical attributes on a scale from 0 to 1.\n",
    "- There are no missing values in the dataset, as all columns have a non-null count of 170,653 entries.\n",
    "- The 'release_date' column is stored as an object (string) data type, which may need to be converted to datetime for analysis"
   ]
  },
  {
   "cell_type": "code",
   "execution_count": 42,
   "id": "99130d65-48c5-4159-8a30-b95d8b6c5f7b",
   "metadata": {},
   "outputs": [
    {
     "data": {
      "text/html": [
       "<div>\n",
       "<style scoped>\n",
       "    .dataframe tbody tr th:only-of-type {\n",
       "        vertical-align: middle;\n",
       "    }\n",
       "\n",
       "    .dataframe tbody tr th {\n",
       "        vertical-align: top;\n",
       "    }\n",
       "\n",
       "    .dataframe thead th {\n",
       "        text-align: right;\n",
       "    }\n",
       "</style>\n",
       "<table border=\"1\" class=\"dataframe\">\n",
       "  <thead>\n",
       "    <tr style=\"text-align: right;\">\n",
       "      <th></th>\n",
       "      <th>count</th>\n",
       "      <th>mean</th>\n",
       "      <th>std</th>\n",
       "      <th>min</th>\n",
       "      <th>25%</th>\n",
       "      <th>50%</th>\n",
       "      <th>75%</th>\n",
       "      <th>max</th>\n",
       "    </tr>\n",
       "  </thead>\n",
       "  <tbody>\n",
       "    <tr>\n",
       "      <th>valence</th>\n",
       "      <td>170653.0</td>\n",
       "      <td>0.528587</td>\n",
       "      <td>0.263171</td>\n",
       "      <td>0.0</td>\n",
       "      <td>0.3170</td>\n",
       "      <td>0.540000</td>\n",
       "      <td>0.7470</td>\n",
       "      <td>1.000</td>\n",
       "    </tr>\n",
       "    <tr>\n",
       "      <th>year</th>\n",
       "      <td>170653.0</td>\n",
       "      <td>1976.787241</td>\n",
       "      <td>25.917853</td>\n",
       "      <td>1921.0</td>\n",
       "      <td>1956.0000</td>\n",
       "      <td>1977.000000</td>\n",
       "      <td>1999.0000</td>\n",
       "      <td>2020.000</td>\n",
       "    </tr>\n",
       "    <tr>\n",
       "      <th>acousticness</th>\n",
       "      <td>170653.0</td>\n",
       "      <td>0.502115</td>\n",
       "      <td>0.376032</td>\n",
       "      <td>0.0</td>\n",
       "      <td>0.1020</td>\n",
       "      <td>0.516000</td>\n",
       "      <td>0.8930</td>\n",
       "      <td>0.996</td>\n",
       "    </tr>\n",
       "    <tr>\n",
       "      <th>danceability</th>\n",
       "      <td>170653.0</td>\n",
       "      <td>0.537396</td>\n",
       "      <td>0.176138</td>\n",
       "      <td>0.0</td>\n",
       "      <td>0.4150</td>\n",
       "      <td>0.548000</td>\n",
       "      <td>0.6680</td>\n",
       "      <td>0.988</td>\n",
       "    </tr>\n",
       "    <tr>\n",
       "      <th>duration_ms</th>\n",
       "      <td>170653.0</td>\n",
       "      <td>230948.310666</td>\n",
       "      <td>126118.414668</td>\n",
       "      <td>5108.0</td>\n",
       "      <td>169827.0000</td>\n",
       "      <td>207467.000000</td>\n",
       "      <td>262400.0000</td>\n",
       "      <td>5403500.000</td>\n",
       "    </tr>\n",
       "    <tr>\n",
       "      <th>energy</th>\n",
       "      <td>170653.0</td>\n",
       "      <td>0.482389</td>\n",
       "      <td>0.267646</td>\n",
       "      <td>0.0</td>\n",
       "      <td>0.2550</td>\n",
       "      <td>0.471000</td>\n",
       "      <td>0.7030</td>\n",
       "      <td>1.000</td>\n",
       "    </tr>\n",
       "    <tr>\n",
       "      <th>explicit</th>\n",
       "      <td>170653.0</td>\n",
       "      <td>0.084575</td>\n",
       "      <td>0.278249</td>\n",
       "      <td>0.0</td>\n",
       "      <td>0.0000</td>\n",
       "      <td>0.000000</td>\n",
       "      <td>0.0000</td>\n",
       "      <td>1.000</td>\n",
       "    </tr>\n",
       "    <tr>\n",
       "      <th>instrumentalness</th>\n",
       "      <td>170653.0</td>\n",
       "      <td>0.167010</td>\n",
       "      <td>0.313475</td>\n",
       "      <td>0.0</td>\n",
       "      <td>0.0000</td>\n",
       "      <td>0.000216</td>\n",
       "      <td>0.1020</td>\n",
       "      <td>1.000</td>\n",
       "    </tr>\n",
       "    <tr>\n",
       "      <th>key</th>\n",
       "      <td>170653.0</td>\n",
       "      <td>5.199844</td>\n",
       "      <td>3.515094</td>\n",
       "      <td>0.0</td>\n",
       "      <td>2.0000</td>\n",
       "      <td>5.000000</td>\n",
       "      <td>8.0000</td>\n",
       "      <td>11.000</td>\n",
       "    </tr>\n",
       "    <tr>\n",
       "      <th>liveness</th>\n",
       "      <td>170653.0</td>\n",
       "      <td>0.205839</td>\n",
       "      <td>0.174805</td>\n",
       "      <td>0.0</td>\n",
       "      <td>0.0988</td>\n",
       "      <td>0.136000</td>\n",
       "      <td>0.2610</td>\n",
       "      <td>1.000</td>\n",
       "    </tr>\n",
       "    <tr>\n",
       "      <th>loudness</th>\n",
       "      <td>170653.0</td>\n",
       "      <td>-11.467990</td>\n",
       "      <td>5.697943</td>\n",
       "      <td>-60.0</td>\n",
       "      <td>-14.6150</td>\n",
       "      <td>-10.580000</td>\n",
       "      <td>-7.1830</td>\n",
       "      <td>3.855</td>\n",
       "    </tr>\n",
       "    <tr>\n",
       "      <th>mode</th>\n",
       "      <td>170653.0</td>\n",
       "      <td>0.706902</td>\n",
       "      <td>0.455184</td>\n",
       "      <td>0.0</td>\n",
       "      <td>0.0000</td>\n",
       "      <td>1.000000</td>\n",
       "      <td>1.0000</td>\n",
       "      <td>1.000</td>\n",
       "    </tr>\n",
       "    <tr>\n",
       "      <th>popularity</th>\n",
       "      <td>170653.0</td>\n",
       "      <td>31.431794</td>\n",
       "      <td>21.826615</td>\n",
       "      <td>0.0</td>\n",
       "      <td>11.0000</td>\n",
       "      <td>33.000000</td>\n",
       "      <td>48.0000</td>\n",
       "      <td>100.000</td>\n",
       "    </tr>\n",
       "    <tr>\n",
       "      <th>speechiness</th>\n",
       "      <td>170653.0</td>\n",
       "      <td>0.098393</td>\n",
       "      <td>0.162740</td>\n",
       "      <td>0.0</td>\n",
       "      <td>0.0349</td>\n",
       "      <td>0.045000</td>\n",
       "      <td>0.0756</td>\n",
       "      <td>0.970</td>\n",
       "    </tr>\n",
       "    <tr>\n",
       "      <th>tempo</th>\n",
       "      <td>170653.0</td>\n",
       "      <td>116.861590</td>\n",
       "      <td>30.708533</td>\n",
       "      <td>0.0</td>\n",
       "      <td>93.4210</td>\n",
       "      <td>114.729000</td>\n",
       "      <td>135.5370</td>\n",
       "      <td>243.507</td>\n",
       "    </tr>\n",
       "    <tr>\n",
       "      <th>Unnamed: 19</th>\n",
       "      <td>0.0</td>\n",
       "      <td>NaN</td>\n",
       "      <td>NaN</td>\n",
       "      <td>NaN</td>\n",
       "      <td>NaN</td>\n",
       "      <td>NaN</td>\n",
       "      <td>NaN</td>\n",
       "      <td>NaN</td>\n",
       "    </tr>\n",
       "  </tbody>\n",
       "</table>\n",
       "</div>"
      ],
      "text/plain": [
       "                     count           mean            std     min          25%  \\\n",
       "valence           170653.0       0.528587       0.263171     0.0       0.3170   \n",
       "year              170653.0    1976.787241      25.917853  1921.0    1956.0000   \n",
       "acousticness      170653.0       0.502115       0.376032     0.0       0.1020   \n",
       "danceability      170653.0       0.537396       0.176138     0.0       0.4150   \n",
       "duration_ms       170653.0  230948.310666  126118.414668  5108.0  169827.0000   \n",
       "energy            170653.0       0.482389       0.267646     0.0       0.2550   \n",
       "explicit          170653.0       0.084575       0.278249     0.0       0.0000   \n",
       "instrumentalness  170653.0       0.167010       0.313475     0.0       0.0000   \n",
       "key               170653.0       5.199844       3.515094     0.0       2.0000   \n",
       "liveness          170653.0       0.205839       0.174805     0.0       0.0988   \n",
       "loudness          170653.0     -11.467990       5.697943   -60.0     -14.6150   \n",
       "mode              170653.0       0.706902       0.455184     0.0       0.0000   \n",
       "popularity        170653.0      31.431794      21.826615     0.0      11.0000   \n",
       "speechiness       170653.0       0.098393       0.162740     0.0       0.0349   \n",
       "tempo             170653.0     116.861590      30.708533     0.0      93.4210   \n",
       "Unnamed: 19            0.0            NaN            NaN     NaN          NaN   \n",
       "\n",
       "                            50%          75%          max  \n",
       "valence                0.540000       0.7470        1.000  \n",
       "year                1977.000000    1999.0000     2020.000  \n",
       "acousticness           0.516000       0.8930        0.996  \n",
       "danceability           0.548000       0.6680        0.988  \n",
       "duration_ms       207467.000000  262400.0000  5403500.000  \n",
       "energy                 0.471000       0.7030        1.000  \n",
       "explicit               0.000000       0.0000        1.000  \n",
       "instrumentalness       0.000216       0.1020        1.000  \n",
       "key                    5.000000       8.0000       11.000  \n",
       "liveness               0.136000       0.2610        1.000  \n",
       "loudness             -10.580000      -7.1830        3.855  \n",
       "mode                   1.000000       1.0000        1.000  \n",
       "popularity            33.000000      48.0000      100.000  \n",
       "speechiness            0.045000       0.0756        0.970  \n",
       "tempo                114.729000     135.5370      243.507  \n",
       "Unnamed: 19                 NaN          NaN          NaN  "
      ]
     },
     "execution_count": 42,
     "metadata": {},
     "output_type": "execute_result"
    }
   ],
   "source": [
    "df.describe().transpose()"
   ]
  },
  {
   "cell_type": "markdown",
   "id": "c382d16b-e72a-40fd-bc89-937ea9570d41",
   "metadata": {},
   "source": [
    "### Drop irrelevant columns\n",
    " 'id' is the unique identifier of each track in the dataset. We can drop this variable since it doesn't provide us with any useful information for the recommender system."
   ]
  },
  {
   "cell_type": "code",
   "execution_count": 4,
   "id": "257c341b-262b-4f01-abdc-c181fcf3c98b",
   "metadata": {},
   "outputs": [],
   "source": [
    "df.drop('id', axis=1, inplace=True)\n"
   ]
  },
  {
   "cell_type": "code",
   "execution_count": 44,
   "id": "721c9867-adf8-4b9b-95ef-89395aaeb2d1",
   "metadata": {},
   "outputs": [
    {
     "name": "stdout",
     "output_type": "stream",
     "text": [
      "<class 'pandas.core.frame.DataFrame'>\n",
      "RangeIndex: 170653 entries, 0 to 170652\n",
      "Data columns (total 19 columns):\n",
      " #   Column            Non-Null Count   Dtype  \n",
      "---  ------            --------------   -----  \n",
      " 0   valence           170653 non-null  float64\n",
      " 1   year              170653 non-null  int64  \n",
      " 2   acousticness      170653 non-null  float64\n",
      " 3   artists           170653 non-null  object \n",
      " 4   danceability      170653 non-null  float64\n",
      " 5   duration_ms       170653 non-null  int64  \n",
      " 6   energy            170653 non-null  float64\n",
      " 7   explicit          170653 non-null  int64  \n",
      " 8   instrumentalness  170653 non-null  float64\n",
      " 9   key               170653 non-null  int64  \n",
      " 10  liveness          170653 non-null  float64\n",
      " 11  loudness          170653 non-null  float64\n",
      " 12  mode              170653 non-null  int64  \n",
      " 13  name              170653 non-null  object \n",
      " 14  popularity        170653 non-null  int64  \n",
      " 15  release_date      170653 non-null  object \n",
      " 16  speechiness       170653 non-null  float64\n",
      " 17  tempo             170653 non-null  float64\n",
      " 18  Unnamed: 19       0 non-null       float64\n",
      "dtypes: float64(10), int64(6), object(3)\n",
      "memory usage: 24.7+ MB\n"
     ]
    }
   ],
   "source": [
    "df.info()"
   ]
  },
  {
   "cell_type": "markdown",
   "id": "33e25d92-a028-4f1f-aa5d-6343e8c7ee21",
   "metadata": {},
   "source": [
    "### D) Data preparation\n",
    " Before diving into analysis, it's crucial to ensure the dataset is clean and ready for processing.\n",
    " This involves identifying and addressing any inconsistencies, errors, or missing values in the data.\n",
    " In this section, we'll perform various data cleaning tasks, including:\n",
    " - Handling missing values\n",
    " - Removing duplicates\n",
    " - Correcting data types\n",
    " - Standardizing data formats\n",
    " Let's start by loading the dataset and examining its structure to identify areas that require cleaning."
   ]
  },
  {
   "cell_type": "markdown",
   "id": "b47d5b78-37fa-4609-8187-df45b476f2b4",
   "metadata": {},
   "source": [
    "#### Handle missing values"
   ]
  },
  {
   "cell_type": "code",
   "execution_count": null,
   "id": "311909c4-698f-478e-8765-60a137e43eeb",
   "metadata": {},
   "outputs": [],
   "source": [
    "# Detecting missing values numerically\n"
   ]
  },
  {
   "cell_type": "code",
   "execution_count": 45,
   "id": "4beafbc3-bba1-494c-8c2a-63ed5fc178e0",
   "metadata": {},
   "outputs": [
    {
     "data": {
      "text/html": [
       "<div>\n",
       "<style scoped>\n",
       "    .dataframe tbody tr th:only-of-type {\n",
       "        vertical-align: middle;\n",
       "    }\n",
       "\n",
       "    .dataframe tbody tr th {\n",
       "        vertical-align: top;\n",
       "    }\n",
       "\n",
       "    .dataframe thead th {\n",
       "        text-align: right;\n",
       "    }\n",
       "</style>\n",
       "<table border=\"1\" class=\"dataframe\">\n",
       "  <thead>\n",
       "    <tr style=\"text-align: right;\">\n",
       "      <th></th>\n",
       "      <th>valence</th>\n",
       "      <th>year</th>\n",
       "      <th>acousticness</th>\n",
       "      <th>artists</th>\n",
       "      <th>danceability</th>\n",
       "      <th>duration_ms</th>\n",
       "      <th>energy</th>\n",
       "      <th>explicit</th>\n",
       "      <th>instrumentalness</th>\n",
       "      <th>key</th>\n",
       "      <th>liveness</th>\n",
       "      <th>loudness</th>\n",
       "      <th>mode</th>\n",
       "      <th>name</th>\n",
       "      <th>popularity</th>\n",
       "      <th>release_date</th>\n",
       "      <th>speechiness</th>\n",
       "      <th>tempo</th>\n",
       "      <th>Unnamed: 19</th>\n",
       "    </tr>\n",
       "  </thead>\n",
       "  <tbody>\n",
       "    <tr>\n",
       "      <th>0</th>\n",
       "      <td>False</td>\n",
       "      <td>False</td>\n",
       "      <td>False</td>\n",
       "      <td>False</td>\n",
       "      <td>False</td>\n",
       "      <td>False</td>\n",
       "      <td>False</td>\n",
       "      <td>False</td>\n",
       "      <td>False</td>\n",
       "      <td>False</td>\n",
       "      <td>False</td>\n",
       "      <td>False</td>\n",
       "      <td>False</td>\n",
       "      <td>False</td>\n",
       "      <td>False</td>\n",
       "      <td>False</td>\n",
       "      <td>False</td>\n",
       "      <td>False</td>\n",
       "      <td>True</td>\n",
       "    </tr>\n",
       "    <tr>\n",
       "      <th>1</th>\n",
       "      <td>False</td>\n",
       "      <td>False</td>\n",
       "      <td>False</td>\n",
       "      <td>False</td>\n",
       "      <td>False</td>\n",
       "      <td>False</td>\n",
       "      <td>False</td>\n",
       "      <td>False</td>\n",
       "      <td>False</td>\n",
       "      <td>False</td>\n",
       "      <td>False</td>\n",
       "      <td>False</td>\n",
       "      <td>False</td>\n",
       "      <td>False</td>\n",
       "      <td>False</td>\n",
       "      <td>False</td>\n",
       "      <td>False</td>\n",
       "      <td>False</td>\n",
       "      <td>True</td>\n",
       "    </tr>\n",
       "    <tr>\n",
       "      <th>2</th>\n",
       "      <td>False</td>\n",
       "      <td>False</td>\n",
       "      <td>False</td>\n",
       "      <td>False</td>\n",
       "      <td>False</td>\n",
       "      <td>False</td>\n",
       "      <td>False</td>\n",
       "      <td>False</td>\n",
       "      <td>False</td>\n",
       "      <td>False</td>\n",
       "      <td>False</td>\n",
       "      <td>False</td>\n",
       "      <td>False</td>\n",
       "      <td>False</td>\n",
       "      <td>False</td>\n",
       "      <td>False</td>\n",
       "      <td>False</td>\n",
       "      <td>False</td>\n",
       "      <td>True</td>\n",
       "    </tr>\n",
       "    <tr>\n",
       "      <th>3</th>\n",
       "      <td>False</td>\n",
       "      <td>False</td>\n",
       "      <td>False</td>\n",
       "      <td>False</td>\n",
       "      <td>False</td>\n",
       "      <td>False</td>\n",
       "      <td>False</td>\n",
       "      <td>False</td>\n",
       "      <td>False</td>\n",
       "      <td>False</td>\n",
       "      <td>False</td>\n",
       "      <td>False</td>\n",
       "      <td>False</td>\n",
       "      <td>False</td>\n",
       "      <td>False</td>\n",
       "      <td>False</td>\n",
       "      <td>False</td>\n",
       "      <td>False</td>\n",
       "      <td>True</td>\n",
       "    </tr>\n",
       "    <tr>\n",
       "      <th>4</th>\n",
       "      <td>False</td>\n",
       "      <td>False</td>\n",
       "      <td>False</td>\n",
       "      <td>False</td>\n",
       "      <td>False</td>\n",
       "      <td>False</td>\n",
       "      <td>False</td>\n",
       "      <td>False</td>\n",
       "      <td>False</td>\n",
       "      <td>False</td>\n",
       "      <td>False</td>\n",
       "      <td>False</td>\n",
       "      <td>False</td>\n",
       "      <td>False</td>\n",
       "      <td>False</td>\n",
       "      <td>False</td>\n",
       "      <td>False</td>\n",
       "      <td>False</td>\n",
       "      <td>True</td>\n",
       "    </tr>\n",
       "    <tr>\n",
       "      <th>...</th>\n",
       "      <td>...</td>\n",
       "      <td>...</td>\n",
       "      <td>...</td>\n",
       "      <td>...</td>\n",
       "      <td>...</td>\n",
       "      <td>...</td>\n",
       "      <td>...</td>\n",
       "      <td>...</td>\n",
       "      <td>...</td>\n",
       "      <td>...</td>\n",
       "      <td>...</td>\n",
       "      <td>...</td>\n",
       "      <td>...</td>\n",
       "      <td>...</td>\n",
       "      <td>...</td>\n",
       "      <td>...</td>\n",
       "      <td>...</td>\n",
       "      <td>...</td>\n",
       "      <td>...</td>\n",
       "    </tr>\n",
       "    <tr>\n",
       "      <th>170648</th>\n",
       "      <td>False</td>\n",
       "      <td>False</td>\n",
       "      <td>False</td>\n",
       "      <td>False</td>\n",
       "      <td>False</td>\n",
       "      <td>False</td>\n",
       "      <td>False</td>\n",
       "      <td>False</td>\n",
       "      <td>False</td>\n",
       "      <td>False</td>\n",
       "      <td>False</td>\n",
       "      <td>False</td>\n",
       "      <td>False</td>\n",
       "      <td>False</td>\n",
       "      <td>False</td>\n",
       "      <td>False</td>\n",
       "      <td>False</td>\n",
       "      <td>False</td>\n",
       "      <td>True</td>\n",
       "    </tr>\n",
       "    <tr>\n",
       "      <th>170649</th>\n",
       "      <td>False</td>\n",
       "      <td>False</td>\n",
       "      <td>False</td>\n",
       "      <td>False</td>\n",
       "      <td>False</td>\n",
       "      <td>False</td>\n",
       "      <td>False</td>\n",
       "      <td>False</td>\n",
       "      <td>False</td>\n",
       "      <td>False</td>\n",
       "      <td>False</td>\n",
       "      <td>False</td>\n",
       "      <td>False</td>\n",
       "      <td>False</td>\n",
       "      <td>False</td>\n",
       "      <td>False</td>\n",
       "      <td>False</td>\n",
       "      <td>False</td>\n",
       "      <td>True</td>\n",
       "    </tr>\n",
       "    <tr>\n",
       "      <th>170650</th>\n",
       "      <td>False</td>\n",
       "      <td>False</td>\n",
       "      <td>False</td>\n",
       "      <td>False</td>\n",
       "      <td>False</td>\n",
       "      <td>False</td>\n",
       "      <td>False</td>\n",
       "      <td>False</td>\n",
       "      <td>False</td>\n",
       "      <td>False</td>\n",
       "      <td>False</td>\n",
       "      <td>False</td>\n",
       "      <td>False</td>\n",
       "      <td>False</td>\n",
       "      <td>False</td>\n",
       "      <td>False</td>\n",
       "      <td>False</td>\n",
       "      <td>False</td>\n",
       "      <td>True</td>\n",
       "    </tr>\n",
       "    <tr>\n",
       "      <th>170651</th>\n",
       "      <td>False</td>\n",
       "      <td>False</td>\n",
       "      <td>False</td>\n",
       "      <td>False</td>\n",
       "      <td>False</td>\n",
       "      <td>False</td>\n",
       "      <td>False</td>\n",
       "      <td>False</td>\n",
       "      <td>False</td>\n",
       "      <td>False</td>\n",
       "      <td>False</td>\n",
       "      <td>False</td>\n",
       "      <td>False</td>\n",
       "      <td>False</td>\n",
       "      <td>False</td>\n",
       "      <td>False</td>\n",
       "      <td>False</td>\n",
       "      <td>False</td>\n",
       "      <td>True</td>\n",
       "    </tr>\n",
       "    <tr>\n",
       "      <th>170652</th>\n",
       "      <td>False</td>\n",
       "      <td>False</td>\n",
       "      <td>False</td>\n",
       "      <td>False</td>\n",
       "      <td>False</td>\n",
       "      <td>False</td>\n",
       "      <td>False</td>\n",
       "      <td>False</td>\n",
       "      <td>False</td>\n",
       "      <td>False</td>\n",
       "      <td>False</td>\n",
       "      <td>False</td>\n",
       "      <td>False</td>\n",
       "      <td>False</td>\n",
       "      <td>False</td>\n",
       "      <td>False</td>\n",
       "      <td>False</td>\n",
       "      <td>False</td>\n",
       "      <td>True</td>\n",
       "    </tr>\n",
       "  </tbody>\n",
       "</table>\n",
       "<p>170653 rows × 19 columns</p>\n",
       "</div>"
      ],
      "text/plain": [
       "        valence   year  acousticness  artists  danceability  duration_ms  \\\n",
       "0         False  False         False    False         False        False   \n",
       "1         False  False         False    False         False        False   \n",
       "2         False  False         False    False         False        False   \n",
       "3         False  False         False    False         False        False   \n",
       "4         False  False         False    False         False        False   \n",
       "...         ...    ...           ...      ...           ...          ...   \n",
       "170648    False  False         False    False         False        False   \n",
       "170649    False  False         False    False         False        False   \n",
       "170650    False  False         False    False         False        False   \n",
       "170651    False  False         False    False         False        False   \n",
       "170652    False  False         False    False         False        False   \n",
       "\n",
       "        energy  explicit  instrumentalness    key  liveness  loudness   mode  \\\n",
       "0        False     False             False  False     False     False  False   \n",
       "1        False     False             False  False     False     False  False   \n",
       "2        False     False             False  False     False     False  False   \n",
       "3        False     False             False  False     False     False  False   \n",
       "4        False     False             False  False     False     False  False   \n",
       "...        ...       ...               ...    ...       ...       ...    ...   \n",
       "170648   False     False             False  False     False     False  False   \n",
       "170649   False     False             False  False     False     False  False   \n",
       "170650   False     False             False  False     False     False  False   \n",
       "170651   False     False             False  False     False     False  False   \n",
       "170652   False     False             False  False     False     False  False   \n",
       "\n",
       "         name  popularity  release_date  speechiness  tempo  Unnamed: 19  \n",
       "0       False       False         False        False  False         True  \n",
       "1       False       False         False        False  False         True  \n",
       "2       False       False         False        False  False         True  \n",
       "3       False       False         False        False  False         True  \n",
       "4       False       False         False        False  False         True  \n",
       "...       ...         ...           ...          ...    ...          ...  \n",
       "170648  False       False         False        False  False         True  \n",
       "170649  False       False         False        False  False         True  \n",
       "170650  False       False         False        False  False         True  \n",
       "170651  False       False         False        False  False         True  \n",
       "170652  False       False         False        False  False         True  \n",
       "\n",
       "[170653 rows x 19 columns]"
      ]
     },
     "execution_count": 45,
     "metadata": {},
     "output_type": "execute_result"
    }
   ],
   "source": [
    "df.isna()"
   ]
  },
  {
   "cell_type": "code",
   "execution_count": 46,
   "id": "29503fae-5ce4-4e9c-be5d-684a97a1603d",
   "metadata": {},
   "outputs": [
    {
     "data": {
      "text/plain": [
       "valence             False\n",
       "year                False\n",
       "acousticness        False\n",
       "artists             False\n",
       "danceability        False\n",
       "duration_ms         False\n",
       "energy              False\n",
       "explicit            False\n",
       "instrumentalness    False\n",
       "key                 False\n",
       "liveness            False\n",
       "loudness            False\n",
       "mode                False\n",
       "name                False\n",
       "popularity          False\n",
       "release_date        False\n",
       "speechiness         False\n",
       "tempo               False\n",
       "Unnamed: 19          True\n",
       "dtype: bool"
      ]
     },
     "execution_count": 46,
     "metadata": {},
     "output_type": "execute_result"
    }
   ],
   "source": [
    "df.isna().any()"
   ]
  },
  {
   "cell_type": "markdown",
   "id": "ffe3af7d-5c48-4738-846a-fa9d468f5ae5",
   "metadata": {},
   "source": [
    "This result indicates that all columns except 'Unnamed: 19' contain no missing values (False) in the dataset. We can drop 'Unnamed: 19'"
   ]
  },
  {
   "cell_type": "code",
   "execution_count": 5,
   "id": "ef161a9c-07de-4585-9d8a-74471a5cf081",
   "metadata": {},
   "outputs": [],
   "source": [
    "df.drop('Unnamed: 19', axis=1, inplace=True)"
   ]
  },
  {
   "cell_type": "code",
   "execution_count": 52,
   "id": "1bbf75e3-3025-4a29-a0b3-850779d39e28",
   "metadata": {},
   "outputs": [
    {
     "name": "stdout",
     "output_type": "stream",
     "text": [
      "<class 'pandas.core.frame.DataFrame'>\n",
      "RangeIndex: 170653 entries, 0 to 170652\n",
      "Data columns (total 18 columns):\n",
      " #   Column            Non-Null Count   Dtype  \n",
      "---  ------            --------------   -----  \n",
      " 0   valence           170653 non-null  float64\n",
      " 1   year              170653 non-null  int64  \n",
      " 2   acousticness      170653 non-null  float64\n",
      " 3   artists           170653 non-null  object \n",
      " 4   danceability      170653 non-null  float64\n",
      " 5   duration_ms       170653 non-null  int64  \n",
      " 6   energy            170653 non-null  float64\n",
      " 7   explicit          170653 non-null  int64  \n",
      " 8   instrumentalness  170653 non-null  float64\n",
      " 9   key               170653 non-null  int64  \n",
      " 10  liveness          170653 non-null  float64\n",
      " 11  loudness          170653 non-null  float64\n",
      " 12  mode              170653 non-null  int64  \n",
      " 13  name              170653 non-null  object \n",
      " 14  popularity        170653 non-null  int64  \n",
      " 15  release_date      170653 non-null  object \n",
      " 16  speechiness       170653 non-null  float64\n",
      " 17  tempo             170653 non-null  float64\n",
      "dtypes: float64(9), int64(6), object(3)\n",
      "memory usage: 23.4+ MB\n"
     ]
    }
   ],
   "source": [
    "df.info()"
   ]
  },
  {
   "cell_type": "markdown",
   "id": "2707a906-b360-4c9f-aeca-d6f82147aac9",
   "metadata": {},
   "source": [
    "#### Remove duplicates "
   ]
  },
  {
   "cell_type": "code",
   "execution_count": 6,
   "id": "58c1a893-b137-4282-b6cb-25eca78df941",
   "metadata": {},
   "outputs": [
    {
     "name": "stdout",
     "output_type": "stream",
     "text": [
      "0         False\n",
      "1         False\n",
      "2         False\n",
      "3         False\n",
      "4         False\n",
      "          ...  \n",
      "170648    False\n",
      "170649    False\n",
      "170650    False\n",
      "170651    False\n",
      "170652    False\n",
      "Length: 170653, dtype: bool\n"
     ]
    },
    {
     "data": {
      "text/plain": [
       "543"
      ]
     },
     "execution_count": 6,
     "metadata": {},
     "output_type": "execute_result"
    }
   ],
   "source": [
    "# find duplicate rows in the entire dataset\n",
    "duplicate_rows = df.duplicated()\n",
    "# print duplicate rows\n",
    "print(duplicate_rows)\n",
    "# duplicates on entire dataset:\n",
    "len(df)-len(df.drop_duplicates())"
   ]
  },
  {
   "cell_type": "code",
   "execution_count": 7,
   "id": "8e2ef3b0-0958-47c7-92aa-d5f2ada9df49",
   "metadata": {
    "scrolled": true
   },
   "outputs": [
    {
     "name": "stdout",
     "output_type": "stream",
     "text": [
      "<class 'pandas.core.frame.DataFrame'>\n",
      "Index: 170110 entries, 0 to 170652\n",
      "Data columns (total 18 columns):\n",
      " #   Column            Non-Null Count   Dtype  \n",
      "---  ------            --------------   -----  \n",
      " 0   valence           170110 non-null  float64\n",
      " 1   year              170110 non-null  int64  \n",
      " 2   acousticness      170110 non-null  float64\n",
      " 3   artists           170110 non-null  object \n",
      " 4   danceability      170110 non-null  float64\n",
      " 5   duration_ms       170110 non-null  int64  \n",
      " 6   energy            170110 non-null  float64\n",
      " 7   explicit          170110 non-null  int64  \n",
      " 8   instrumentalness  170110 non-null  float64\n",
      " 9   key               170110 non-null  int64  \n",
      " 10  liveness          170110 non-null  float64\n",
      " 11  loudness          170110 non-null  float64\n",
      " 12  mode              170110 non-null  int64  \n",
      " 13  name              170110 non-null  object \n",
      " 14  popularity        170110 non-null  int64  \n",
      " 15  release_date      170110 non-null  object \n",
      " 16  speechiness       170110 non-null  float64\n",
      " 17  tempo             170110 non-null  float64\n",
      "dtypes: float64(9), int64(6), object(3)\n",
      "memory usage: 24.7+ MB\n"
     ]
    }
   ],
   "source": [
    "subsetAfterDropDuplicateValues = df.drop_duplicates()\n",
    "subsetAfterDropDuplicateValues.info()"
   ]
  },
  {
   "cell_type": "code",
   "execution_count": 8,
   "id": "c8e13fb9-dfec-4f92-a71c-485433f90d99",
   "metadata": {},
   "outputs": [],
   "source": [
    "subsetAfterDropDuplicateValues.to_csv('subsetAfterDropDuplicateValues.csv')"
   ]
  },
  {
   "cell_type": "markdown",
   "id": "d2395c68-e85f-4534-b0e3-9ec9338bad63",
   "metadata": {},
   "source": [
    "#### Detect outliers"
   ]
  },
  {
   "cell_type": "code",
   "execution_count": 9,
   "id": "09f53781-745d-4302-9e4f-93fcd52fb12b",
   "metadata": {},
   "outputs": [
    {
     "name": "stdout",
     "output_type": "stream",
     "text": [
      "Shape of DataFrame before removing outliers: (170653, 18)\n",
      "Shape of DataFrame after removing outliers: (145847, 18)\n"
     ]
    }
   ],
   "source": [
    "# Calculate Z-scores for numerical features\n",
    "z_scores = stats.zscore(df.select_dtypes(include=[np.number]))\n",
    "\n",
    "# Define threshold for Z-scores\n",
    "threshold = 3  # Example threshold value\n",
    "\n",
    "# Find indices of outliers\n",
    "outlier_indices = np.where(np.abs(z_scores) > threshold)\n",
    "\n",
    "# Remove outliers from DataFrame\n",
    "df_no_outliers = df.drop(outlier_indices[0])\n",
    "\n",
    "# Print the shape of the DataFrame before and after removing outliers\n",
    "print(\"Shape of DataFrame before removing outliers:\", df.shape)\n",
    "print(\"Shape of DataFrame after removing outliers:\", df_no_outliers.shape)\n"
   ]
  },
  {
   "cell_type": "markdown",
   "id": "69ebe415-3f73-445c-9643-177c2beff59d",
   "metadata": {},
   "source": [
    "# E) Data visualization"
   ]
  },
  {
   "cell_type": "code",
   "execution_count": 58,
   "id": "98a49d85-b7e8-4a13-b787-3206cf30a11f",
   "metadata": {},
   "outputs": [
    {
     "data": {
      "image/png": "[encoded data removed]",
      "text/plain": [
       "<Figure size 2000x1500 with 16 Axes>"
      ]
     },
     "metadata": {},
     "output_type": "display_data"
    }
   ],
   "source": [
    "df_no_outliers.hist(bins = 100, figsize = (20,15))\n",
    "plt.savefig(\"attribute_histogram_plots\")"
   ]
  },
  {
   "cell_type": "markdown",
   "id": "5eb80c1a-027c-4fa1-91da-d0ad0d42578a",
   "metadata": {},
   "source": [
    "The above Visualization shows the variability of each metric in the dataset"
   ]
  },
  {
   "cell_type": "markdown",
   "id": "c2dfcea3-8a16-4b4f-98b8-719d0ca9740f",
   "metadata": {},
   "source": [
    "# F) Model Training and Testing-Methodology\n",
    "## Recommender System Methodology\n",
    "\n",
    "### Content-Based Music Recommender System Using Cosine Similarity\n",
    "\n",
    "#### Overview\n",
    "This system suggests music tracks to users based on the features of tracks they have liked in the past, using a content-based filtering approach with cosine similarity.\n",
    "\n",
    "#### Methodology\n",
    "\n",
    "##### 1. **Data Preprocessing**\n",
    "  1.1) Create a new DataFrame containing only these selected features.\n",
    "  \n"
   ]
  },
  {
   "cell_type": "code",
   "execution_count": 10,
   "id": "c737c923-4c9b-4684-9fbf-78c74a92e507",
   "metadata": {},
   "outputs": [],
   "source": [
    "columns_to_keep = ['year','name', 'artists','key']\n",
    "df_cleaned = df_no_outliers[columns_to_keep]"
   ]
  },
  {
   "cell_type": "code",
   "execution_count": 11,
   "id": "5a90a6c8-6fbd-4069-a09d-204211af6c7c",
   "metadata": {},
   "outputs": [],
   "source": [
    "df_cleaned.to_csv('df_cleaned.csv')"
   ]
  },
  {
   "cell_type": "code",
   "execution_count": 60,
   "id": "5f3fd7fa-1e93-4d5e-821e-209f3fe255d7",
   "metadata": {},
   "outputs": [
    {
     "name": "stdout",
     "output_type": "stream",
     "text": [
      "        year                         name  \\\n",
      "1       1921      Clancy Lowered the Boom   \n",
      "2       1921                    Gati Bali   \n",
      "3       1921                    Danny Boy   \n",
      "4       1921  When Irish Eyes Are Smiling   \n",
      "5       1921                 Gati Mardika   \n",
      "...      ...                          ...   \n",
      "170642  2020           Timeless Interlude   \n",
      "170644  2020                     Sunblind   \n",
      "170648  2020                        China   \n",
      "170649  2020  Halloweenie III: Seven Days   \n",
      "170650  2020                          AYA   \n",
      "\n",
      "                                                  artists  key  \n",
      "1                                          ['Dennis Day']    7  \n",
      "2       ['KHP Kridhamardawa Karaton Ngayogyakarta Hadi...    3  \n",
      "3                                        ['Frank Parker']    5  \n",
      "4                                          ['Phil Regan']    3  \n",
      "5       ['KHP Kridhamardawa Karaton Ngayogyakarta Hadi...    2  \n",
      "...                                                   ...  ...  \n",
      "170642                                  ['Bryson Tiller']    6  \n",
      "170644                                    ['Fleet Foxes']    7  \n",
      "170648  ['Anuel AA', 'Daddy Yankee', 'KAROL G', 'Ozuna...    7  \n",
      "170649                                       ['Ashnikko']    7  \n",
      "170650                                        ['MAMAMOO']    4  \n",
      "\n",
      "[145847 rows x 4 columns]\n"
     ]
    }
   ],
   "source": [
    "print(df_cleaned)\n"
   ]
  },
  {
   "cell_type": "code",
   "execution_count": 61,
   "id": "78834b2f-e5b8-4f2b-9bde-5dbba236844f",
   "metadata": {},
   "outputs": [
    {
     "name": "stdout",
     "output_type": "stream",
     "text": [
      "<class 'pandas.core.frame.DataFrame'>\n",
      "Index: 145847 entries, 1 to 170650\n",
      "Data columns (total 4 columns):\n",
      " #   Column   Non-Null Count   Dtype \n",
      "---  ------   --------------   ----- \n",
      " 0   year     145847 non-null  int64 \n",
      " 1   name     145847 non-null  object\n",
      " 2   artists  145847 non-null  object\n",
      " 3   key      145847 non-null  int64 \n",
      "dtypes: int64(2), object(2)\n",
      "memory usage: 5.6+ MB\n"
     ]
    }
   ],
   "source": [
    "df_cleaned.info()"
   ]
  },
  {
   "cell_type": "markdown",
   "id": "0bd65d79-7dd6-4f8a-a114-282dd1d33b12",
   "metadata": {},
   "source": [
    "1.2) Sample 30,000 entries from this DataFrame for further analysis. "
   ]
  },
  {
   "cell_type": "code",
   "execution_count": 12,
   "id": "d6e8d090-d511-496b-b797-a3502284a2e5",
   "metadata": {},
   "outputs": [
    {
     "name": "stdout",
     "output_type": "stream",
     "text": [
      "        year                                               name  \\\n",
      "119433  1993                                          This Time   \n",
      "129910  1965    Good Morning, Little Schoolgirl - 2015 Remaster   \n",
      "73249   2011                                         Bottoms Up   \n",
      "10247   1973  Saturday Night’s Alright (For Fighting) - Rema...   \n",
      "157768  1956                                 Artistry In Rhythm   \n",
      "...      ...                                                ...   \n",
      "126569  1949  Dido and Aeneas Z626 (ed. Geraint Jones) (2008...   \n",
      "139586  2014                                     Nobody To Love   \n",
      "12328   1983                                     Club Tropicana   \n",
      "21952   1936                       Arroja la Bomba - Remastered   \n",
      "97723   1965               Look What You've Done - Mono Version   \n",
      "\n",
      "                                                  artists  key  \n",
      "119433                                  ['Dwight Yoakam']    9  \n",
      "129910                                  ['The Yardbirds']    4  \n",
      "73249                                      ['Nickelback']    0  \n",
      "10247                                      ['Elton John']    0  \n",
      "157768                                    ['Stan Kenton']    8  \n",
      "...                                                   ...  ...  \n",
      "126569  ['Geraint Jones', 'Henry Purcell', 'Nahum Tate...    4  \n",
      "139586                                          ['Sigma']    8  \n",
      "12328                                           ['Wham!']   11  \n",
      "21952                                  ['Frente Popular']    0  \n",
      "97723                              ['The Rolling Stones']    7  \n",
      "\n",
      "[30000 rows x 4 columns]\n"
     ]
    }
   ],
   "source": [
    "sample_df = df_cleaned.sample(n=30000, random_state=42)\n",
    "print(sample_df)"
   ]
  },
  {
   "cell_type": "code",
   "execution_count": 13,
   "id": "52388f46-82fa-4891-ae12-5e3e5e29affb",
   "metadata": {},
   "outputs": [],
   "source": [
    "sample_df.to_csv('sample_df.csv')"
   ]
  },
  {
   "cell_type": "code",
   "execution_count": 63,
   "id": "5b64053e-f75f-497b-a49a-600fa0395777",
   "metadata": {},
   "outputs": [
    {
     "name": "stdout",
     "output_type": "stream",
     "text": [
      "<class 'pandas.core.frame.DataFrame'>\n",
      "Index: 30000 entries, 119433 to 97723\n",
      "Data columns (total 4 columns):\n",
      " #   Column   Non-Null Count  Dtype \n",
      "---  ------   --------------  ----- \n",
      " 0   year     30000 non-null  int64 \n",
      " 1   name     30000 non-null  object\n",
      " 2   artists  30000 non-null  object\n",
      " 3   key      30000 non-null  int64 \n",
      "dtypes: int64(2), object(2)\n",
      "memory usage: 1.1+ MB\n"
     ]
    }
   ],
   "source": [
    "sample_df.info()"
   ]
  },
  {
   "cell_type": "markdown",
   "id": "82d96c9b-10e5-4805-a2af-323bc53fb2b1",
   "metadata": {},
   "source": [
    "##### 2. **Feature Extraction**\n",
    "  2.1)   Select relevant features: name, Year, Key, and Artists.\n"
   ]
  },
  {
   "cell_type": "code",
   "execution_count": null,
   "id": "5566f457-3d85-4be9-b6cb-d127e4ed5744",
   "metadata": {},
   "outputs": [],
   "source": [
    "features = ['key','year','artists','name']"
   ]
  },
  {
   "cell_type": "markdown",
   "id": "e851f96f-f205-4264-9c49-fd69fd7a6791",
   "metadata": {},
   "source": [
    "2.2) Concatenate the 'artists', 'year', 'key', and 'name' columns of a DataFrame row into a single string."
   ]
  },
  {
   "cell_type": "code",
   "execution_count": 64,
   "id": "cfb473a5-79ca-4011-babc-9ac5fb1ad8f7",
   "metadata": {},
   "outputs": [],
   "source": [
    "def combine_features(row):\n",
    "    return (\n",
    "        row['artists'] + \" \" +\n",
    "        str(row['year']) + \" \" +\n",
    "        str(row['key']) + \" \" +\n",
    "        str(row['name']) \n",
    "    )"
   ]
  },
  {
   "cell_type": "markdown",
   "id": "68113141-5c52-4bcf-9007-49b9daddafb4",
   "metadata": {},
   "source": [
    "2.3) Add a new column 'combine_features' to sample_df by applying the combine_features function to each row."
   ]
  },
  {
   "cell_type": "code",
   "execution_count": 66,
   "id": "0a97bdf1-b8cf-453c-a41f-7d7b880b4404",
   "metadata": {},
   "outputs": [
    {
     "data": {
      "text/plain": [
       "119433                   ['Dwight Yoakam'] 1993 9 This Time\n",
       "129910    ['The Yardbirds'] 1965 4 Good Morning, Little ...\n",
       "73249                      ['Nickelback'] 2011 0 Bottoms Up\n",
       "10247     ['Elton John'] 1973 0 Saturday Night’s Alright...\n",
       "157768            ['Stan Kenton'] 1956 8 Artistry In Rhythm\n",
       "Name: combine_features, dtype: object"
      ]
     },
     "execution_count": 66,
     "metadata": {},
     "output_type": "execute_result"
    }
   ],
   "source": [
    "sample_df['combine_features'] = sample_df.apply(lambda row: combine_features(row), axis=1)\n",
    "sample_df[\"combine_features\"].head(5)"
   ]
  },
  {
   "cell_type": "markdown",
   "id": "190503c6-8889-4f90-9df8-8002d664fe9a",
   "metadata": {},
   "source": [
    "2.4) Transform the 'combine_features' column of sample_df into a count matrix, and stores the result in count_matrix"
   ]
  },
  {
   "cell_type": "code",
   "execution_count": 67,
   "id": "63b79bda-6f34-4157-b608-a5246dbff0ec",
   "metadata": {},
   "outputs": [],
   "source": [
    "cv = CountVectorizer()\n",
    "count_matrix = cv.fit_transform(sample_df[\"combine_features\"])"
   ]
  },
  {
   "cell_type": "markdown",
   "id": "eac792e6-0bc4-4219-8c34-46d1a77a4066",
   "metadata": {},
   "source": [
    "##### 3. **Cosine Similarity Calculation**\n",
    "Compute the cosine similarity between the rows of the count_matrix and stores the resulting similarity matrix in cosine_sim."
   ]
  },
  {
   "cell_type": "code",
   "execution_count": 68,
   "id": "eed13deb-cef9-4529-9963-0222f620cc0f",
   "metadata": {},
   "outputs": [],
   "source": [
    "cosine_sim = cosine_similarity(count_matrix)"
   ]
  },
  {
   "cell_type": "code",
   "execution_count": 69,
   "id": "5562cfd7-de8e-42e1-b5b5-c087fdec99c6",
   "metadata": {},
   "outputs": [
    {
     "name": "stdout",
     "output_type": "stream",
     "text": [
      "(30000, 30000)\n"
     ]
    }
   ],
   "source": [
    "print(cosine_sim.shape)"
   ]
  },
  {
   "cell_type": "code",
   "execution_count": null,
   "id": "04f48e89-477d-4b22-92e7-6f3b86126da8",
   "metadata": {
    "scrolled": true
   },
   "outputs": [],
   "source": [
    "df_cleaned['index'] = range(len(df_cleaned))"
   ]
  },
  {
   "cell_type": "code",
   "execution_count": 71,
   "id": "d4c43050-7feb-40f4-875d-64ed40aa4c93",
   "metadata": {},
   "outputs": [
    {
     "data": {
      "text/html": [
       "<div>\n",
       "<style scoped>\n",
       "    .dataframe tbody tr th:only-of-type {\n",
       "        vertical-align: middle;\n",
       "    }\n",
       "\n",
       "    .dataframe tbody tr th {\n",
       "        vertical-align: top;\n",
       "    }\n",
       "\n",
       "    .dataframe thead th {\n",
       "        text-align: right;\n",
       "    }\n",
       "</style>\n",
       "<table border=\"1\" class=\"dataframe\">\n",
       "  <thead>\n",
       "    <tr style=\"text-align: right;\">\n",
       "      <th></th>\n",
       "      <th>year</th>\n",
       "      <th>name</th>\n",
       "      <th>artists</th>\n",
       "      <th>key</th>\n",
       "      <th>index</th>\n",
       "    </tr>\n",
       "  </thead>\n",
       "  <tbody>\n",
       "    <tr>\n",
       "      <th>1</th>\n",
       "      <td>1921</td>\n",
       "      <td>Clancy Lowered the Boom</td>\n",
       "      <td>['Dennis Day']</td>\n",
       "      <td>7</td>\n",
       "      <td>0</td>\n",
       "    </tr>\n",
       "    <tr>\n",
       "      <th>2</th>\n",
       "      <td>1921</td>\n",
       "      <td>Gati Bali</td>\n",
       "      <td>['KHP Kridhamardawa Karaton Ngayogyakarta Hadi...</td>\n",
       "      <td>3</td>\n",
       "      <td>1</td>\n",
       "    </tr>\n",
       "    <tr>\n",
       "      <th>3</th>\n",
       "      <td>1921</td>\n",
       "      <td>Danny Boy</td>\n",
       "      <td>['Frank Parker']</td>\n",
       "      <td>5</td>\n",
       "      <td>2</td>\n",
       "    </tr>\n",
       "    <tr>\n",
       "      <th>4</th>\n",
       "      <td>1921</td>\n",
       "      <td>When Irish Eyes Are Smiling</td>\n",
       "      <td>['Phil Regan']</td>\n",
       "      <td>3</td>\n",
       "      <td>3</td>\n",
       "    </tr>\n",
       "    <tr>\n",
       "      <th>5</th>\n",
       "      <td>1921</td>\n",
       "      <td>Gati Mardika</td>\n",
       "      <td>['KHP Kridhamardawa Karaton Ngayogyakarta Hadi...</td>\n",
       "      <td>2</td>\n",
       "      <td>4</td>\n",
       "    </tr>\n",
       "  </tbody>\n",
       "</table>\n",
       "</div>"
      ],
      "text/plain": [
       "   year                         name  \\\n",
       "1  1921      Clancy Lowered the Boom   \n",
       "2  1921                    Gati Bali   \n",
       "3  1921                    Danny Boy   \n",
       "4  1921  When Irish Eyes Are Smiling   \n",
       "5  1921                 Gati Mardika   \n",
       "\n",
       "                                             artists  key  index  \n",
       "1                                     ['Dennis Day']    7      0  \n",
       "2  ['KHP Kridhamardawa Karaton Ngayogyakarta Hadi...    3      1  \n",
       "3                                   ['Frank Parker']    5      2  \n",
       "4                                     ['Phil Regan']    3      3  \n",
       "5  ['KHP Kridhamardawa Karaton Ngayogyakarta Hadi...    2      4  "
      ]
     },
     "execution_count": 71,
     "metadata": {},
     "output_type": "execute_result"
    }
   ],
   "source": [
    "df_cleaned.head(5)"
   ]
  },
  {
   "cell_type": "markdown",
   "id": "b8b0ca91-b0f0-41fc-a0b0-9d5417cb5531",
   "metadata": {},
   "source": [
    "#### 4. **Generate Recommendations**\n",
    "4.1) Define two helper functions to get the movie title from the movie index and vice-versa."
   ]
  },
  {
   "cell_type": "code",
   "execution_count": 72,
   "id": "ddf791c1-8114-404a-abb6-bd408e24abda",
   "metadata": {},
   "outputs": [],
   "source": [
    "def get_name_from_index(index):\n",
    "    return df_cleaned[df_cleaned.index == index][\"name\"].values[0]\n",
    "\n",
    "def get_index_from_name(name):\n",
    "    return df_cleaned[df_cleaned.name == name][\"index\"].values[0]"
   ]
  },
  {
   "cell_type": "markdown",
   "id": "d3b3b1a3-00c4-4b71-a8a0-8e0f8c3da486",
   "metadata": {},
   "source": [
    "Our next step is to get the name of the song that the user currently likes. Then, we will find the\n",
    "index of that song in df. After that, we will access the row corresponding to this song in the\n",
    "similarity matrix. Thus, we will get the similarity scores of all other song from the current\n",
    "song. Then, we will enumerate through all the similarity scores of that song to make a tuple of\n",
    "song index and similarity score. This will convert a row of similarity scores like this: [1 0.5 0.2\n",
    "0.9] to this: [(0, 1) (1, 0.5) (2, 0.2) (3, 0.9)]. Here, each item is in this form: (song index,\n",
    "similarity score).\n",
    "The function get_name_from_index(index) takes the index of the song as argument, then,\n",
    "returns the name value of that song in the dataframe using the property values.\n",
    "The function get_index_from_name(name) takes the name of the song as argument, then, returns\n",
    "the index value of that song in the dataframe using the property values."
   ]
  },
  {
   "cell_type": "code",
   "execution_count": null,
   "id": "4ed6004b-5519-46f6-9a76-529c3b72bfd1",
   "metadata": {},
   "outputs": [],
   "source": [
    "# Test the function get_index_from_name(name) with a song named “Gati Bali”."
   ]
  },
  {
   "cell_type": "code",
   "execution_count": 73,
   "id": "028749dd-edc7-437a-b92c-50819203d46f",
   "metadata": {},
   "outputs": [
    {
     "name": "stdout",
     "output_type": "stream",
     "text": [
      "1\n"
     ]
    }
   ],
   "source": [
    "song_user_likes = \"Gati Bali\"\n",
    "song_index = get_index_from_name(song_user_likes)\n",
    "print(song_index)"
   ]
  },
  {
   "cell_type": "markdown",
   "id": "0d33801f-0ca8-439a-b47a-f483dd6d2ffa",
   "metadata": {},
   "source": [
    "Access the row corresponding to the given song to find all the similarity scores for that song\n",
    "and then enumerate over it. You can use the list function which creates a collection that can be\n",
    "manipulated for your analysis. This collection of data is called a list object. When you\n",
    "use enumerate, the function gives you back two loop variables:\n",
    "- The count of the current iteration\n",
    "- The value of the item at the current iteration"
   ]
  },
  {
   "cell_type": "code",
   "execution_count": 74,
   "id": "2a78b5f9-dc09-4f6b-828a-7572bfd9f49e",
   "metadata": {},
   "outputs": [],
   "source": [
    "similar_songs = list(enumerate(cosine_sim[song_index]))"
   ]
  },
  {
   "cell_type": "markdown",
   "id": "3ccc736a-2300-4878-bb56-782ba3cb61ab",
   "metadata": {},
   "source": [
    "Sort the list similar_songs according to similarity scores in descending order. The function\n",
    "sorted is used to sort the elements similar_songs with respect to the element at index 1 (second\n",
    "element – similarity score). The sorted function returns a sorted list of the specified object. You\n",
    "can specify ascending or descending order. Strings are sorted alphabetically, and numbers are\n",
    "sorted numerically. Since the most similar song to a given song will be itself, we will discard the\n",
    "first element after sorting the songs."
   ]
  },
  {
   "cell_type": "code",
   "execution_count": null,
   "id": "1b532fbd-777b-4ea2-b0bb-71520150ccaf",
   "metadata": {},
   "outputs": [],
   "source": [
    "sorted_similar_songs = sorted(similar_songs, key=lambda x:x[1],reverse=True)[1:]\n",
    "# The key argument is meant to specify how to perform the sort.\n",
    "# The reverse keyword is optional, It is a Boolean value, False will sort ascending, True will sort descending."
   ]
  },
  {
   "cell_type": "markdown",
   "id": "033cefe5-c30c-43c3-9433-fad6fdda5f5a",
   "metadata": {},
   "source": [
    "Run a loop to print first 5 entries from the sorted_similar_songs list."
   ]
  },
  {
   "cell_type": "code",
   "execution_count": 75,
   "id": "ec5cbd5d-35ef-45aa-84b9-11ece61bf351",
   "metadata": {},
   "outputs": [
    {
     "name": "stdout",
     "output_type": "stream",
     "text": [
      "Top 5 similar songs to Gati Bali are:\n",
      "\n",
      "Oh! You Pretty Things - 2015 Remaster\n",
      "Rock And Roll All Nite\n",
      "Mi Perdón - Remasterizado\n",
      "Heebie Jeebies\n",
      "Josephine\n"
     ]
    }
   ],
   "source": [
    "i=0\n",
    "print(\"Top 5 similar songs to \"+song_user_likes+\" are:\\n\")\n",
    "for element in sorted_similar_songs:\n",
    "    print(get_name_from_index(element[0]))\n",
    "    i=i+1\n",
    "    if i>4:\n",
    "        break"
   ]
  },
  {
   "cell_type": "markdown",
   "id": "f82b6e5f-45bc-47c5-893a-b47cd63b52f9",
   "metadata": {},
   "source": [
    "# G) Conclusion and Future Work\n",
    "## Conclusion\n",
    "This project successfully developed a content-based music recommender system using cosine similarity. The system utilizes track features to recommend songs that are similar to those a user has liked in the past. Key steps included data preprocessing, feature selection, similarity computation, and generating recommendations.\n",
    "\n",
    "Key findings and outcomes:\n",
    "- **Effective Feature Selection**: By selecting relevant features such as Acousticness, Danceability, Energy, and others, the system can accurately represent the characteristics of each track.\n",
    "\n",
    "- **Scalability**: The approach can handle large datasets efficiently, demonstrated by sampling 30,000 tracks for analysis.\n",
    "    \n",
    "## Future Work\n",
    "While the current system provides accurate recommendations based on track features, there are several potential enhancements and areas for further research:\n",
    "\n",
    "1. **User Interaction Data**: Incorporating user interaction data (e.g., user ratings, play counts) could improve recommendation accuracy by combining content-based and collaborative filtering methods.\n",
    "2. **Advanced Similarity Measures**: Exploring advanced similarity measures such as Pearson correlation  could enhance the system's performance.\n",
    "3. **Real-Time Recommendations**: Implementing real-time recommendation updates as users interact with the system would provide a more dynamic and personalized experience.\n",
    "4. **Extended Feature Set**: Adding more features, such as lyrics analysis, genre classification, and mood detection, could provide deeper insights into track characteristics.\n",
    "\n",
    "By implementing these enhancements, the music recommender system can become more robust, accurate, and user-centric, providing a richer and more satisfying experience for users.\n",
    "\n"
   ]
  }
 ],
 "metadata": {
  "kernelspec": {
   "display_name": "Python 3 (ipykernel)",
   "language": "python",
   "name": "python3"
  },
  "language_info": {
   "codemirror_mode": {
    "name": "ipython",
    "version": 3
   },
   "file_extension": ".py",
   "mimetype": "text/x-python",
   "name": "python",
   "nbconvert_exporter": "python",
   "pygments_lexer": "ipython3",
   "version": "3.12.2"
  }
 },
 "nbformat": 4,
 "nbformat_minor": 5
}
